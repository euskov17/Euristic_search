{
 "cells": [
  {
   "cell_type": "markdown",
   "metadata": {},
   "source": [
    "# Path Planning On a Grid (Dijkstra with SearchNodes)"
   ]
  },
  {
   "cell_type": "markdown",
   "metadata": {},
   "source": [
    "![1](./image/1.png)"
   ]
  },
  {
   "cell_type": "markdown",
   "metadata": {},
   "source": [
    "In this lab we consider the problem of finding a (shortest) path on a graph of special structure, widely used in robotics and computer games, i.e. a grid. Grid is composed of the free and blocked cells and an agent may move from one free cell to the other. The connectivity of the grid may vary, e.g. grid might be 4-connected when only cardinal moves are allowed, 8-connected when diagonal moves are allowed as well, etc. \n",
    "\n",
    "**In this lab we assume that the grid is 4-connected**, i.e. only moves into the cardinal direction (N,E,W,S) are allowed. The cost of each move is uniform, i.e. 1.\n",
    "\n",
    "We will consider the semminal `Dijkstra`'s algorithm for finding the shortest path on a grid. However, we are interested in implementing this algorithm as a \"heuristic search without heuristic\", i.e. with the distinct 'SearchNode' structure, with Open and Closed etc.\n",
    "\n",
    "The further algorithms we will be considering (in the next handouts) will re-use much of this implementation, so it's very important that you end up with a correct and efficient code.\n",
    "\n",
    "Your task is to complete and run every cell in this notebook.\n",
    "\n",
    "Let's go for it!"
   ]
  },
  {
   "cell_type": "markdown",
   "metadata": {},
   "source": [
    "![2](./image/dijkstra.png)"
   ]
  },
  {
   "cell_type": "code",
   "execution_count": 1,
   "metadata": {},
   "outputs": [],
   "source": [
    "from PIL import Image, ImageDraw\n",
    "import numpy as np\n",
    "import matplotlib.pyplot as plt\n",
    "import math\n",
    "from heapq import heappop, heappush\n",
    "%matplotlib inline"
   ]
  },
  {
   "cell_type": "markdown",
   "metadata": {},
   "source": [
    "### Grid map representation \n",
    "\n",
    "Square grid map class represents the environment for our moving agent\n",
    "\n",
    "- width -- the number of columns in the grid\n",
    "- height -- the number of rows in the grid\n",
    "- cells -- the binary matrix, that represents the grid. 0 - cell is traversable, 1 - cell is blocked"
   ]
  },
  {
   "cell_type": "code",
   "execution_count": 2,
   "metadata": {},
   "outputs": [],
   "source": [
    "class Map:\n",
    "\n",
    "    def __init__(self):\n",
    "        '''\n",
    "        Default constructor\n",
    "        '''\n",
    "\n",
    "        self._width = 0\n",
    "        self._height = 0\n",
    "        self._cells = []\n",
    "    \n",
    "\n",
    "    def read_from_string(self, cell_str, width, height):\n",
    "        '''\n",
    "        Converting a string (with '#' representing obstacles and '.' representing free cells) to a grid\n",
    "        '''\n",
    "        self._width = width\n",
    "        self._height = height\n",
    "        self._cells = [[0 for _ in range(width)] for _ in range(height)]\n",
    "        cell_lines = cell_str.split(\"\\n\")\n",
    "        i = 0\n",
    "        j = 0\n",
    "        for l in cell_lines:\n",
    "            if len(l) != 0:\n",
    "                j = 0\n",
    "                for c in l:\n",
    "                    if c == '.':\n",
    "                        self._cells[i][j] = 0\n",
    "                    elif c == '#':\n",
    "                        self._cells[i][j] = 1\n",
    "                    else:\n",
    "                        continue\n",
    "                    j += 1\n",
    "                if j != width:\n",
    "                    raise Exception(\"Size Error. Map width = \", j, \", but must be\", width )\n",
    "                \n",
    "                i += 1\n",
    "\n",
    "        if i != height:\n",
    "            raise Exception(\"Size Error. Map height = \", i, \", but must be\", height )\n",
    "    \n",
    "     \n",
    "    def set_grid_cells(self, width, height, grid_cells):\n",
    "        '''\n",
    "        Initialization of map by list of cells.\n",
    "        '''\n",
    "        self._width = width\n",
    "        self._height = height\n",
    "        self._cells = grid_cells\n",
    "\n",
    "\n",
    "    def in_bounds(self, i, j):\n",
    "        '''\n",
    "        Check if the cell is on a grid.\n",
    "        '''\n",
    "        return (0 <= j < self._width) and (0 <= i < self._height)\n",
    "    \n",
    "\n",
    "    def traversable(self, i, j):\n",
    "        '''\n",
    "        Check if the cell is not an obstacle.\n",
    "        '''\n",
    "        return not self._cells[i][j]\n",
    "\n",
    "\n",
    "    def get_neighbors(self, i, j):\n",
    "        '''\n",
    "        Get a list of neighbouring cells as (i,j) tuples.\n",
    "        It's assumed that grid is 4-connected (i.e. only moves into cardinal directions are allowed)\n",
    "        '''   \n",
    "        neighbors = []\n",
    "        delta = [[0, 1], [1, 0], [0, -1], [-1, 0]]\n",
    "\n",
    "        for d in delta:\n",
    "            if self.in_bounds(i + d[0], j + d[1]) and self.traversable(i + d[0], j + d[1]):\n",
    "                neighbors.append((i + d[0], j + d[1]))\n",
    "\n",
    "        return neighbors\n",
    "\n",
    "    def get_size(self):\n",
    "        return (self._height, self._width)\n"
   ]
  },
  {
   "cell_type": "markdown",
   "metadata": {},
   "source": [
    "Computes the cost of a transition from cell `(i1, j1)` to cell `(i2, j2)`. In case of 4-connected grid it is always equal to 1. However if the connectivity of a grid exceeds 4 the cost of a transition may vary.\n",
    "\n",
    "Recall that in this lab we assume 4-connected grid, i.e. only cardinal moves are allowed."
   ]
  },
  {
   "cell_type": "code",
   "execution_count": 3,
   "metadata": {},
   "outputs": [],
   "source": [
    "def compute_cost(i1, j1, i2, j2):\n",
    "    '''\n",
    "    Computes cost of simple moves between cells\n",
    "    '''\n",
    "    if abs(i1 - i2) + abs(j1 - j2) == 1: #cardinal move\n",
    "        return 1\n",
    "    else:\n",
    "        raise Exception('Trying to compute the cost of non-supported move! ONLY cardinal moves are supported.')\n"
   ]
  },
  {
   "cell_type": "markdown",
   "metadata": {},
   "source": [
    "### Search Node\n",
    "\n",
    "Search node is the core concept for any (heuristic) search algorithm. It ties together and encapsulates data both about the state of the problem at hand (in the considered case state = the position of the robot/agent on a grid) and data needed to conduct the search (g-, h, f-values etc.)\n",
    "\n"
   ]
  },
  {
   "cell_type": "code",
   "execution_count": 4,
   "metadata": {},
   "outputs": [],
   "source": [
    "class Node:\n",
    "    '''\n",
    "    Node class represents a search node\n",
    "\n",
    "    - i, j: coordinates of corresponding grid element\n",
    "    - g: g-value of the node\n",
    "    - h: h-value of the node // always 0 for Dijkstra\n",
    "    - F: f-value of the node // always equal to g-value for Dijkstra\n",
    "    - parent: pointer to the parent-node \n",
    "\n",
    "    '''\n",
    "\n",
    "    def __init__(self, i: int, j: int, g = 0, h = 0, f = None, parent = None):\n",
    "        self.i = i\n",
    "        self.j = j\n",
    "        self.g = g\n",
    "        self.h = h\n",
    "        if f is None:\n",
    "            self.f = self.g + h\n",
    "        else:\n",
    "            self.f = f        \n",
    "        self.parent = parent\n",
    "\n",
    "        \n",
    "    \n",
    "    def __eq__(self, other):\n",
    "        return self.i == other.i and self.j == other.j \n",
    "\n",
    "    def __lt__(self, other):\n",
    "        return self.f < other.f\n",
    "    \n",
    "    def __str__(self) -> str:\n",
    "        return \"%s %s\" %(self.i, self.j)\n",
    "\n",
    "    def __hash__(self) -> int:\n",
    "        return hash((self.i, self.j))"
   ]
  },
  {
   "cell_type": "markdown",
   "metadata": {},
   "source": [
    "### Visualization"
   ]
  },
  {
   "cell_type": "code",
   "execution_count": 5,
   "metadata": {
    "tags": []
   },
   "outputs": [],
   "source": [
    "def draw(grid_map, start = None, goal = None, path = None, nodes_opened = None, nodes_expanded = None, nodes_reexpanded = None):\n",
    "    '''\n",
    "    Auxiliary function that visualizes the environment, the path and \n",
    "    the expanded/not yet expanded/re-expanded nodes.\n",
    "    Re-expansions are not happening in Dijkstra, but still...\n",
    "    \n",
    "    The function assumes that nodes_opened/nodes_expanded/nodes_reexpanded\n",
    "    are iterable collestions of SearchNodes\n",
    "    '''\n",
    "    k = 5\n",
    "    height, width = grid_map.get_size()\n",
    "    h_im = height * k\n",
    "    w_im = width * k\n",
    "    im = Image.new('RGB', (w_im, h_im), color = 'white')\n",
    "    draw = ImageDraw.Draw(im)\n",
    "    \n",
    "    for i in range(height):\n",
    "        for j in range(width):\n",
    "            if(not grid_map.traversable(i, j)):\n",
    "                draw.rectangle((j * k, i * k, (j + 1) * k - 1, (i + 1) * k - 1), fill=( 70, 80, 80 ))\n",
    "\n",
    "    if nodes_opened is not None:\n",
    "        for node in nodes_opened:\n",
    "            draw.rectangle((node.j * k, node.i * k, (node.j + 1) * k - 1, (node.i + 1) * k - 1), fill=(213, 219, 219), width=0)\n",
    "    \n",
    "    if nodes_expanded is not None:\n",
    "        for node in nodes_expanded:\n",
    "            draw.rectangle((node.j * k, node.i * k, (node.j + 1) * k - 1, (node.i + 1) * k - 1), fill=(131, 145, 146), width=0)\n",
    "    \n",
    "    if nodes_reexpanded is not None:\n",
    "        for node in nodes_reexpanded:\n",
    "                draw.rectangle((node.j * k, node.i * k, (node.j + 1) * k - 1, (node.i + 1) * k - 1), fill=(255, 145, 146), width=0)\n",
    "    \n",
    "    if path is not None:\n",
    "        for step in path:\n",
    "            if (step is not None):\n",
    "                if (grid_map.traversable(step.i, step.j)):\n",
    "                    draw.rectangle((step.j * k, step.i * k, (step.j + 1) * k - 1, (step.i + 1) * k - 1), fill=(52, 152, 219), width=0)\n",
    "                else:\n",
    "                    draw.rectangle((step.j * k, step.i * k, (step.j + 1) * k - 1, (step.i + 1) * k - 1), fill=(230, 126, 34), width=0)\n",
    "\n",
    "    if (start is not None) and (grid_map.traversable(start.i, start.j)):\n",
    "        draw.rectangle((start.j * k, start.i * k, (start.j + 1) * k - 1, (start.i + 1) * k - 1), fill=(40, 180, 99), width=0)\n",
    "    \n",
    "    if (goal is not None) and (grid_map.traversable(goal.i, goal.j)):\n",
    "        draw.rectangle((goal.j * k, goal.i * k, (goal.j + 1) * k - 1, (goal.i + 1) * k - 1), fill=(231, 76, 60), width=0)\n",
    "\n",
    "\n",
    "    _, ax = plt.subplots(dpi=150)\n",
    "    ax.axes.xaxis.set_visible(False)\n",
    "    ax.axes.yaxis.set_visible(False)\n",
    "    plt.imshow(np.asarray(im))\n",
    "    plt.show()\n"
   ]
  },
  {
   "cell_type": "markdown",
   "metadata": {},
   "source": [
    "Example of the visualization"
   ]
  },
  {
   "cell_type": "code",
   "execution_count": 6,
   "metadata": {
    "tags": []
   },
   "outputs": [
    {
     "data": {
      "image/png": "[encoded data removed]",
      "text/plain": [
       "<Figure size 960x720 with 1 Axes>"
      ]
     },
     "metadata": {},
     "output_type": "display_data"
    }
   ],
   "source": [
    "height = 15\n",
    "width = 30\n",
    "map_str = '''\n",
    ". . . . . . . . . . . . . . . . . . . . . # # . . . . . . .  \n",
    ". . . . . . . . . . . . . . . . . . . . . # # . . . . . . . \n",
    ". . . . . . . . . . . . . . . . . . . . . # # . . . . . . . \n",
    ". . . # # . . . . . . . . . . . . . . . . # # . . . . . . . \n",
    ". . . # # . . . . . . . . # # . . . . . . # # . . . . . . . \n",
    ". . . # # . . . . . . . . # # . . . . . . # # # # # . . . . \n",
    ". . . # # . . . . . . . . # # . . . . . . # # # # # . . . . \n",
    ". . . # # . . . . . . . . # # . . . . . . . . . . . . . . . \n",
    ". . . # # . . . . . . . . # # . . . . . . . . . . . . . . . \n",
    ". . . # # . . . . . . . . # # . . . . . . . . . . . . . . . \n",
    ". . . # # . . . . . . . . # # . . . . . . . . . . . . . . . \n",
    ". . . # # . . . . . . . . # # . . . . . . . . . . . . . . . \n",
    ". . . . . . . . . . . . . # # . . . . . . . . . . . . . . . \n",
    ". . . . . . . . . . . . . # # . . . . . . . . . . . . . . .\n",
    ". . . . . . . . . . . . . # # . . . . . . . . . . . . . . .\n",
    "'''\n",
    "\n",
    "test_map = Map()\n",
    "test_map.read_from_string(map_str, width, height)\n",
    "start = Node(1, 1)\n",
    "goal = Node(13, 28)\n",
    "draw(test_map, start, goal)"
   ]
  },
  {
   "cell_type": "markdown",
   "metadata": {},
   "source": [
    "### Implementing the search tree (i.e. OPEN and CLOSED)\n",
    "Efficient implementation of the search tree (OPEN and CLOSED) is crucial for any search algorithm. Below you may find basic implementations that use lists to store the elements of OPEN and CLOSED. This is not very efficient. Your task is to create your own implementations.\n",
    "\n",
    "It's a good idea to modify CLOSED first (as it is pretty straghtforward to do so). Then check that everything is OK, i.e. the search algorithms work faster and the result is correct. Then proceed to modifying OPEN (which is not that trivial as might seem).\n",
    "\n",
    "PS: You may wish to add additional fields, methods, method-arguments etc. to your implementations.\n"
   ]
  },
  {
   "cell_type": "code",
   "execution_count": 7,
   "metadata": {},
   "outputs": [],
   "source": [
    "class SearchTreeL: #SearchTree which uses Lists for OPEN and CLOSED (NOT EFFICIENT)\n",
    "    \n",
    "    def __init__(self):\n",
    "        self._open = []           # list for the OPEN nodes\n",
    "        self._closed = []       # list for the expanded nodes = CLOSED\n",
    "        self._enc_open_dublicates = 0\n",
    "        \n",
    "    def __len__(self):\n",
    "        return len(self._open) + len(self._closed)\n",
    "                    \n",
    "    '''\n",
    "    open_is_empty should inform whether the OPEN is exhausted or not.\n",
    "    In the former case the search main loop should be interrupted.\n",
    "    '''\n",
    "    def open_is_empty(self):\n",
    "        return len(self._open) == 0\n",
    "    \n",
    "    '''\n",
    "    Adding a (previously not expanded) node to the search-tree (i.e. to OPEN).\n",
    "    It's either a totally new node (the one we never encountered before)\n",
    "    or it can be a dublicate of the node that currently resides in OPEN.\n",
    "    It's up to us how to handle dublicates in OPEN. We can either \n",
    "    detect dublicates upon adding (i.e. inside this method) or detect them\n",
    "    lazily, when we are extracting a node for further expansion.\n",
    "    Not detecting dublicates at all may work in certain setups but let's not\n",
    "    consider this option.\n",
    "    '''    \n",
    "    def add_to_open(self, item):\n",
    "        for existing_node in self._open:\n",
    "            if existing_node == item: #here we detect dublicates, so OPEN never contains them\n",
    "                if existing_node.g > item.g:\n",
    "                    existing_node.g = item.g\n",
    "                    existing_node.f = item.f #actually not needed but just for the clarity\n",
    "                    existing_node.parent = item.parent\n",
    "                    return\n",
    "                else:\n",
    "                    return\n",
    "        self._open.append(item)\n",
    "        return    \n",
    "    \n",
    "    \n",
    "    '''\n",
    "    Extracting the best node (i.e. the one with the minimal key \n",
    "    = min f-value = min g-value (for Dijkstra)) from OPEN.\n",
    "    This node will be expanded further on in the main loop of the search.\n",
    "    ''' \n",
    "    def get_best_node_from_open(self):\n",
    "        best_f = math.inf\n",
    "        best_coord = 0\n",
    "        for i in range(len(self._open)):\n",
    "            if self._open[i].f < best_f:\n",
    "                best_coord = i\n",
    "                best_f = self._open[i].f\n",
    "        best = self._open.pop(best_coord)\n",
    "        return best\n",
    "\n",
    "    def add_to_closed(self, item):\n",
    "        self._closed.append(item)\n",
    "\n",
    "    def was_expanded(self, item):\n",
    "        return item in self._closed\n",
    "\n",
    "    @property\n",
    "    def OPEN(self):\n",
    "        return self._open\n",
    "    \n",
    "    @property\n",
    "    def CLOSED(self):\n",
    "        return self._closed\n",
    "\n",
    "    @property\n",
    "    def number_of_open_dublicates(self):\n",
    "        return self._enc_open_dublicates\n",
    "    "
   ]
  },
  {
   "cell_type": "code",
   "execution_count": 8,
   "metadata": {},
   "outputs": [],
   "source": [
    "class SearchTreePQS: #Non list-based implementation of the search tree\n",
    "        \n",
    "    def __init__(self):\n",
    "        self._open = []           # list for the OPEN nodes\n",
    "        self._closed = set()\n",
    "        \n",
    "    def open_is_empty(self):\n",
    "        return len(self._open) == 0\n",
    "\n",
    "    def add_to_open(self, item):\n",
    "#         for existing_node in self._open:\n",
    "#             if existing_node == item: #here we detect dublicates, so OPEN never contains them\n",
    "#                 if existing_node.g > item.g:\n",
    "#                     existing_node.g = item.g\n",
    "#                     existing_node.f = item.f #actually not needed but just for the clarity\n",
    "#                     existing_node.parent = item.parent\n",
    "#                     return\n",
    "#                 else:\n",
    "#                     return\n",
    "        heappush(self._open, item)\n",
    "        return   \n",
    "        \n",
    "\n",
    "    def get_best_node_from_open(self):\n",
    "        node = heappop(self._open)\n",
    "        while node in self._closed:\n",
    "            node = heappop(self._open)\n",
    "        return node\n",
    "    \n",
    "    def add_to_closed(self, item):\n",
    "        self._closed.add(item)\n",
    "        \n",
    "    def was_expanded(self, item):\n",
    "        return item in self._closed\n",
    "    \n",
    "    @property\n",
    "    def OPEN(self):\n",
    "        return self._open\n",
    "    \n",
    "    @property\n",
    "    def CLOSED(self):\n",
    "        return self._closed\n"
   ]
  },
  {
   "cell_type": "markdown",
   "metadata": {},
   "source": [
    "### Validating the results\n"
   ]
  },
  {
   "cell_type": "code",
   "execution_count": 9,
   "metadata": {},
   "outputs": [],
   "source": [
    "def make_path(goal):\n",
    "    '''\n",
    "    Creates a path by tracing parent pointers from the goal node to the start node\n",
    "    It also returns path's length.\n",
    "    '''\n",
    "\n",
    "    length = goal.g\n",
    "    current = goal\n",
    "    path = []\n",
    "    while current.parent:\n",
    "        path.append(current)\n",
    "        current = current.parent\n",
    "    path.append(current)\n",
    "    return path[::-1], length\n"
   ]
  },
  {
   "cell_type": "code",
   "execution_count": 10,
   "metadata": {},
   "outputs": [],
   "source": [
    "def read_task_from_file(path):\n",
    "    '''\n",
    "    Reads map, start/goal positions and true value of path length between given start and goal from file by path. \n",
    "    '''\n",
    "\n",
    "    tasks_file = open(path)\n",
    "    height = int(tasks_file.readline())\n",
    "    width = int(tasks_file.readline())\n",
    "    cells = [[0 for _ in range(width)] for _ in range(height)]\n",
    "    i = 0\n",
    "    j = 0\n",
    "\n",
    "    for l in tasks_file:\n",
    "        j = 0\n",
    "        for c in l:\n",
    "            if c == '.':\n",
    "                cells[i][j] = 0\n",
    "            elif c == '#':\n",
    "                cells[i][j] = 1\n",
    "            else:\n",
    "                continue\n",
    "            j += 1\n",
    "            \n",
    "        if j != width:\n",
    "            raise Exception(\"Size Error. Map width = \", j, \", but must be\", width, \"(map line: \", i, \")\")\n",
    "                \n",
    "        i += 1\n",
    "        if(i == height):\n",
    "            break\n",
    "    \n",
    "    start_i = int(tasks_file.readline())\n",
    "    start_j = int(tasks_file.readline())\n",
    "    goal_i = int(tasks_file.readline())\n",
    "    goal_j = int(tasks_file.readline())\n",
    "    length = float(tasks_file.readline())\n",
    "    return (width, height, cells, start_i, start_j, goal_i, goal_j, length)\n"
   ]
  },
  {
   "cell_type": "markdown",
   "metadata": {},
   "source": [
    "`simple_test` tests the pathfing algorithm on a single simple instance, `massive_test` - on a series of a move involved instances. Both tests assume that the search function fits the following pattern:\n",
    "\n",
    "\n",
    "`search(task_map, start.i, start.j, goal.i, goal.j, *optional arguments*) -> (path_found, last_state, steps, nodes_created, discovered, expanded)`, where\n",
    "\n",
    "- `task_map` -- grid\n",
    "- `start.i, start.j` -- (i,j) coordinates of the start cell\n",
    "- `goal.i, goal.j` -- (i,j) coordinates of the goal cell\n",
    "- `*optional arguments*` -- additional parameters of the search function, passed with `*args`. E.g. the heuristic function.\n",
    "- `path_found` -- `True` if path was found, `False` otherwise\n",
    "- `last_state` -- last state of the path. `None` if path was not found\n",
    "- `steps` -- the number of search steps\n",
    "- `nodes_created` -- the number of nodes, which were created and stored during the search process \n",
    "- `discovered` -- iterable collection of discovered nodes\n",
    "- `expanded` --  iterable collection of expanded nodes"
   ]
  },
  {
   "cell_type": "code",
   "execution_count": 11,
   "metadata": {},
   "outputs": [],
   "source": [
    "def simple_test(search_func, task, *args):\n",
    "    '''\n",
    "    simple_test runs search_func on one task (use a number from 0 to 25 to choose a certain debug task on simple map or None to choose a random task from this pool) with *args as optional arguments and displays:\n",
    "     - 'Path found!' and some statistics -- path was found\n",
    "     - 'Path not found!' -- path was not found\n",
    "     - 'Execution error' -- an error occurred while executing the SearchFunction In first two cases function also draws visualisation of the task\n",
    "    '''\n",
    "    \n",
    "    height = 15\n",
    "    width = 30\n",
    "    map_str = '''\n",
    ". . . . . . . . . . . . . . . . . . . . . # # . . . . . . .  \n",
    ". . . . . . . . . . . . . . . . . . . . . # # . . . . . . . \n",
    ". . . . . . . . . . . . . . . . . . . . . # # . . . . . . . \n",
    ". . . # # . . . . . . . . . . . . . . . . # # . . . . . . . \n",
    ". . . # # . . . . . . . . # # . . . . . . # # . . . . . . . \n",
    ". . . # # . . . . . . . . # # . . . . . . # # # # # . . . . \n",
    ". . . # # . . . . . . . . # # . . . . . . # # # # # . . . . \n",
    ". . . # # . . . . . . . . # # . . . . . . . . . . . . . . . \n",
    ". . . # # . . . . . . . . # # . . . . . . . . . . . . . . . \n",
    ". . . # # . . . . . . . . # # . . . . . . . . . . . . . . . \n",
    ". . . # # . . . . . . . . # # . . . . . . . . . . . . . . . \n",
    ". . . # # . . . . . . . . # # . . . . . . . . . . . . . . . \n",
    ". . . . . . . . . . . . . # # . . . . . . . . . . . . . . . \n",
    ". . . . . . . . . . . . . # # . . . . . . . . . . . . . . .\n",
    ". . . . . . . . . . . . . # # . . . . . . . . . . . . . . .\n",
    "'''\n",
    "\n",
    "    task_map = Map()\n",
    "    task_map.read_from_string(map_str, width, height)\n",
    "    starts = [(9, 0), (13, 0), (7, 28), (14, 29), (4, 1), (0, 17), (5, 6), (5, 20), (12, 2), (7, 28), (11, 9), (3, 2), (3, 17), (13, 20), (1, 1), (9, 10), (14, 6), (2, 0), (9, 28), (8, 6), (11, 6), (3, 0), (8, 9), (14, 7), (12, 4)]\n",
    "    goals = [(11, 20), (2, 19), (6, 5), (4, 18), (9, 20), (7, 0), (2, 25), (12, 4), (3, 25), (0, 12), (4, 23), (2, 24), (9, 2), (1, 6), (13, 29), (14, 29), (2, 28), (14, 16), (13, 0), (1, 27), (14, 25), (10, 20), (12, 28), (2, 29), (1, 29)]\n",
    "    lengths = [36, 30, 30, 21, 28, 24, 32, 27, 42, 23, 35, 37, 23, 26, 40, 36, 42, 28, 44, 36, 38, 29, 33, 42, 44]\n",
    "\n",
    "    if (task is None) or not (0 <= task < 25):\n",
    "        task = randint(0, 24)\n",
    "\n",
    "    start = Node(*starts[task])\n",
    "    goal = Node(*goals[task])\n",
    "    length = lengths[task]\n",
    "    try:\n",
    "        result = search_func(task_map, start.i, start.j, goal.i, goal.j, *args)\n",
    "        number_of_steps = result[2]\n",
    "        nodes_created = result[3]\n",
    "        if result[0]:\n",
    "            path = make_path(result[1])\n",
    "            correct = int(path[1])  == int(length)\n",
    "            draw(task_map, start, goal, path[0], *result[4:])\n",
    "            print(\"Path found! Length: \" + str(path[1]) + \\\n",
    "                \". Nodes created: \" + str(nodes_created) + \\\n",
    "                \". Number of steps: \" + str(number_of_steps) + \". Correct: \" + str(correct))\n",
    "        else:\n",
    "            print(\"Path not found!\")\n",
    "        return result\n",
    "\n",
    "    except Exception as e:\n",
    "        print(\"Execution error\")\n",
    "        print(e)\n"
   ]
  },
  {
   "cell_type": "code",
   "execution_count": 12,
   "metadata": {},
   "outputs": [],
   "source": [
    "def massive_test(search_func, data_path, num_of_tasks=None, *args):\n",
    "    '''\n",
    "    massive_test runs search_func on set of differnt tasks (from directory data/) \n",
    "    with *args as optional arguments and \n",
    "    for every task displays the short report:\n",
    "     - 'Path found!' and some statistics -- path was found\n",
    "     - 'Path not found!' -- path was not found\n",
    "     - 'Execution error' -- an error occurred while executing the SearchFunction In first two cases function also draws visualisation of the task.\n",
    "    \n",
    "    the function also returns a dictionary with statistics. \n",
    "    It contains the next fields:\n",
    "     - \"corr\" -- the correctness of every path length (True/False)\n",
    "     - \"len\" -- the length of every path (0.0 if path not found)\n",
    "     - \"nc\" -- the number of created nodes for every task execution\n",
    "     - \"st\" -- the number of steps of algorithm for every task execution\n",
    "    '''\n",
    "    \n",
    "    stat = dict()\n",
    "    stat[\"corr\"] = []\n",
    "    stat[\"len\"] = []\n",
    "    stat[\"nc\"] = []\n",
    "    stat[\"st\"] = []\n",
    "    \n",
    "    if (num_of_tasks is None) or (num_of_tasks<=0):\n",
    "        print(\"Incorrect number of tasks. Testing halted!\")\n",
    "        return stat\n",
    "    \n",
    "    task_num = num_of_tasks\n",
    "    task_map = Map()\n",
    "    for task_count in range(task_num):\n",
    "        task_file_name = data_path + str(task_count) + \".map\"\n",
    "        width, height, cells, start_i, start_j, goal_i, goal_j, length = read_task_from_file(task_file_name)\n",
    "        task_map.set_grid_cells(width, height, cells)\n",
    "        try:\n",
    "            result = search_func(task_map, start_i, start_j, goal_i, goal_j, *args)\n",
    "            number_of_steps = result[2]\n",
    "            nodes_created = result[3]\n",
    "            if result[0]:\n",
    "                path = make_path(result[1]) \n",
    "                stat[\"len\"].append(path[1])\n",
    "                correct = int(path[1])  == int(length)\n",
    "                stat[\"corr\"].append(correct)\n",
    "\n",
    "                print(\"Path found! Length: \" + str(path[1]) +\\\n",
    "                    \". Nodes created: \" + str(nodes_created) + \\\n",
    "                    \". Number of steps: \" + str(number_of_steps) + \\\n",
    "                    \". Correct: \" + str(correct))\n",
    "            else:\n",
    "                print(\"Path not found!\")\n",
    "                stat[\"corr\"].append(False)\n",
    "                stat[\"len\"].append(0.0)\n",
    "\n",
    "            stat[\"nc\"].append(nodes_created)\n",
    "            stat[\"st\"].append(number_of_steps)\n",
    "\n",
    "        except Exception as e:\n",
    "            print(\"Execution error\")\n",
    "            print(e)\n",
    "\n",
    "    return stat\n"
   ]
  },
  {
   "cell_type": "markdown",
   "metadata": {},
   "source": [
    "## Dijkstra algorithm\n",
    "\n",
    "The input is:\n",
    "- map\n",
    "- start/goal\n",
    "- heuristic function *\n",
    "- the reference to the implementation of the SearchTree\n",
    "\n",
    "/* Please note, that technically there is no need to pass heuristic function to Dijkstra's algorithm. However to unify it with A* (a heuristic search algorithm we will implement in the next lab) we keep this parameter as a take-in argument.\n",
    "\n",
    "The output is:\n",
    "- path found flag (`true` or `false`)\n",
    "- last node of the path (so one can unwind it using the parent-pointers and get the full path)\n",
    "- the number of steps (iterations of the main loop)\n",
    "- the number of created and stored in memory search nodes (= the memory footprint of the algorithm)\n",
    "- OPEN and CLOSED (as iterable collections of nodes) for further visualization purposes"
   ]
  },
  {
   "cell_type": "code",
   "execution_count": 13,
   "metadata": {},
   "outputs": [],
   "source": [
    "def dijkstra(grid_map: Map, start_i: int, start_j: int, goal_i: int, goal_j: int, heuristic_func = None, search_tree = None):\n",
    "    dst = search_tree() #Dijkstra's search tree\n",
    "    steps = 0\n",
    "    nodes_created = 0\n",
    "    \n",
    "#     dst = SearchTreeL()\n",
    "    \n",
    "    start = Node(start_i, start_j, 0, 0, 0)\n",
    "    goal = Node(goal_i, goal_j, 0 ,0 ,0)\n",
    "    dst.add_to_open(start)\n",
    "    \n",
    "    node = None\n",
    "    \n",
    "    while not dst.was_expanded(goal):\n",
    "        node = dst.get_best_node_from_open()  \n",
    "        steps += 1\n",
    "        dst.add_to_closed(node)\n",
    "        \n",
    "        for node_ij in grid_map.get_neighbors(node.i, node.j):\n",
    "            new_node = Node(node_ij[0], node_ij[1], node.g + 1, 0, node.g + 1, node)\n",
    "            nodes_created += 1\n",
    "            if not dst.was_expanded(new_node): \n",
    "                dst.add_to_open(new_node)\n",
    "    \n",
    "    \n",
    "    #ADD CODE HERE\n",
    "        \n",
    "    \n",
    "    CLOSED = dst.CLOSED\n",
    "    return (True, node, steps, nodes_created, None, CLOSED)"
   ]
  },
  {
   "cell_type": "markdown",
   "metadata": {},
   "source": [
    "Now let's test the implementation."
   ]
  },
  {
   "cell_type": "code",
   "execution_count": 14,
   "metadata": {
    "scrolled": true,
    "tags": []
   },
   "outputs": [
    {
     "data": {
      "image/png": "[encoded data removed]",
      "text/plain": [
       "<Figure size 960x720 with 1 Axes>"
      ]
     },
     "metadata": {},
     "output_type": "display_data"
    },
    {
     "name": "stdout",
     "output_type": "stream",
     "text": [
      "Path found! Length: 23. Nodes created: 1329. Number of steps: 367. Correct: True\n",
      "CPU times: user 113 ms, sys: 25 ms, total: 138 ms\n",
      "Wall time: 91 ms\n"
     ]
    }
   ],
   "source": [
    "'''\n",
    "This should work correct in case your implementation of Dijkstra is correct.\n",
    "Play with the number of test instance (2nd argument) to run\n",
    "the search algorithm on different start/goal pairs.\n",
    "'''\n",
    "%time res = simple_test(dijkstra, 12, None, SearchTreeL)"
   ]
  },
  {
   "cell_type": "code",
   "execution_count": 15,
   "metadata": {},
   "outputs": [
    {
     "data": {
      "image/png": "[encoded data removed]",
      "text/plain": [
       "<Figure size 960x720 with 1 Axes>"
      ]
     },
     "metadata": {},
     "output_type": "display_data"
    },
    {
     "name": "stdout",
     "output_type": "stream",
     "text": [
      "Path found! Length: 23. Nodes created: 1329. Number of steps: 367. Correct: True\n",
      "CPU times: user 117 ms, sys: 40.4 ms, total: 157 ms\n",
      "Wall time: 51.7 ms\n"
     ]
    }
   ],
   "source": [
    "'''\n",
    "This should work correct in case your implementation of Dijkstra is correct.\n",
    "Play with the number of test instance (2nd argument) to run\n",
    "the search algorithm on different start/goal pairs.\n",
    "'''\n",
    "%time res = simple_test(dijkstra, 12, None, SearchTreePQS)"
   ]
  },
  {
   "cell_type": "code",
   "execution_count": 16,
   "metadata": {
    "tags": []
   },
   "outputs": [
    {
     "name": "stdout",
     "output_type": "stream",
     "text": [
      "Path found! Length: 64. Nodes created: 6785. Number of steps: 1758. Correct: True\n",
      "Path found! Length: 197. Nodes created: 27889. Number of steps: 7449. Correct: True\n",
      "CPU times: user 10.8 s, sys: 116 ms, total: 10.9 s\n",
      "Wall time: 10.7 s\n"
     ]
    }
   ],
   "source": [
    "'''\n",
    "This runs the search algorithm on two larger instances.\n",
    "The default (list-based) implementation of OPEN/CLOSED will be slow.\n",
    "'''\n",
    "%time res = dijk_stat = massive_test(dijkstra, \"data/\", 2, None, SearchTreeL)"
   ]
  },
  {
   "cell_type": "code",
   "execution_count": 17,
   "metadata": {},
   "outputs": [
    {
     "name": "stdout",
     "output_type": "stream",
     "text": [
      "Path found! Length: 64. Nodes created: 6752. Number of steps: 1750. Correct: True\n",
      "Path found! Length: 197. Nodes created: 27889. Number of steps: 7449. Correct: True\n",
      "CPU times: user 90.8 ms, sys: 0 ns, total: 90.8 ms\n",
      "Wall time: 89.4 ms\n"
     ]
    }
   ],
   "source": [
    "'''\n",
    "This runs the search algorithm on two larger instances.\n",
    "With your (non list-based) implementation of OPEN/CLOSED it should be much faster\n",
    "'''\n",
    "%time res = dijk_stat = massive_test(dijkstra, \"data/\", 2, None, SearchTreePQS)"
   ]
  },
  {
   "cell_type": "code",
   "execution_count": 20,
   "metadata": {},
   "outputs": [
    {
     "name": "stdout",
     "output_type": "stream",
     "text": [
      "Path found! Length: 64. Nodes created: 6752. Number of steps: 1750. Correct: True\n",
      "Path found! Length: 197. Nodes created: 27889. Number of steps: 7449. Correct: True\n",
      "Path found! Length: 462. Nodes created: 178069. Number of steps: 45896. Correct: True\n",
      "Path found! Length: 498. Nodes created: 171701. Number of steps: 44441. Correct: True\n",
      "Path found! Length: 479. Nodes created: 181975. Number of steps: 47533. Correct: True\n",
      "Path found! Length: 402. Nodes created: 108941. Number of steps: 28173. Correct: True\n",
      "Path found! Length: 721. Nodes created: 436621. Number of steps: 112406. Correct: True\n",
      "Path found! Length: 678. Nodes created: 304202. Number of steps: 77376. Correct: True\n",
      "Path found! Length: 683. Nodes created: 377877. Number of steps: 95875. Correct: True\n",
      "CPU times: user 5.95 s, sys: 35.2 ms, total: 5.98 s\n",
      "Wall time: 5.99 s\n"
     ]
    }
   ],
   "source": [
    "'''\n",
    "Finally, let's run your (efficient) implementation of Dijkstra on the full set of\n",
    "large instances (9 instances in total). All should be correct.\n",
    "\n",
    "On my modern laptop (2022 Asus, Intel iCore7, 16Gb RAM, SSD) the whole test completes \n",
    "in about 5-7 seconds.\n",
    "'''\n",
    "%time res = dijk_stat = massive_test(dijkstra, \"data/\", 9, None, SearchTreePQS)"
   ]
  },
  {
   "cell_type": "code",
   "execution_count": null,
   "metadata": {},
   "outputs": [],
   "source": []
  }
 ],
 "metadata": {
  "kernelspec": {
   "display_name": "Python 3 (ipykernel)",
   "language": "python",
   "name": "python3"
  },
  "language_info": {
   "codemirror_mode": {
    "name": "ipython",
    "version": 3
   },
   "file_extension": ".py",
   "mimetype": "text/x-python",
   "name": "python",
   "nbconvert_exporter": "python",
   "pygments_lexer": "ipython3",
   "version": "3.9.12"
  },
  "vscode": {
   "interpreter": {
    "hash": "7b26e5712d4e45c6584e851405aa41bd9420143084f98146412f2d8ff6177527"
   }
  }
 },
 "nbformat": 4,
 "nbformat_minor": 2
}
