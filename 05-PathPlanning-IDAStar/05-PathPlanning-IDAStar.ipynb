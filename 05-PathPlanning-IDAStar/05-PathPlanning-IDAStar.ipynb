{
 "cells": [
  {
   "cell_type": "markdown",
   "metadata": {},
   "source": [
    "# Iterative Deepening A* (IDA*)\n",
    "\n",
    "\n",
    "The need to store in memory the A* search tree (=CLOSED and OPEN 'lists') may become a bottleneck for some problems. One of such problems is the well-known n-puzzle (gem puzzle) game (especially when n>3). One of the ways to mitigate this problem is to use iterative deepening technique in combination with A\\*. This is known as IDA\\* algorithm (Korf, 1985).\n",
    "\n",
    "In this lab your task is to implement IDA* algorithm for n-puzzle game and compare against A* (with the main indicators being runtime (the number of steps performed by the algorithm) and memory consumption).\n",
    "\n",
    "Good luck!\n",
    "\n",
    "(Korf, 1985) Korf, R.E., 1985. Depth-first iterative-deepening: An optimal admissible tree search. Artificial intelligence, 27(1), pp.97-109. [[PDF](https://academiccommons.columbia.edu/doi/10.7916/D8BK1M9V/download)]"
   ]
  },
  {
   "cell_type": "code",
   "execution_count": null,
   "metadata": {},
   "outputs": [],
   "source": [
    "import copy\n",
    "import matplotlib.pyplot as plt\n",
    "import math\n",
    "from random import shuffle\n",
    "from heapq import heappop, heappush\n",
    "\n",
    "\n",
    "%matplotlib inline"
   ]
  },
  {
   "cell_type": "markdown",
   "metadata": {},
   "source": [
    "## Representing the board state and the search state for the Gem Puzzle"
   ]
  },
  {
   "cell_type": "code",
   "execution_count": null,
   "metadata": {},
   "outputs": [],
   "source": [
    "class GemPuzzleState:\n",
    "    '''\n",
    "    GemPuzzleState class represents state of the Gem Puzzle board\n",
    "    \n",
    "    - size: width of game field \n",
    "    \n",
    "    - tile_list: tile positions represented as a list of integers. This list is expected \n",
    "                 to contain values from 1 to (size x size). Each integer value corresponds \n",
    "                 to a tile and the position in the list (index) corresponds to the position \n",
    "                 of the tile on the game field. Tile with the value (size x size) is assumed \n",
    "                 to represent blank position.\n",
    "    \n",
    "    - blank_pos: position of empty tile in tile_list. Explicitly storing the position of\n",
    "                 a blank helps to generate successors faster.\n",
    "    '''\n",
    "\n",
    "    def __init__(self, tile_list, blank_pos = None):\n",
    "        '''\n",
    "        Constructor. Sets tile positions + some basic checks.\n",
    "        '''\n",
    "        \n",
    "        self._tile_list = tile_list\n",
    "        self._size = int(len(tile_list) ** 0.5)\n",
    "        blank_value = self._size ** 2\n",
    "        \n",
    "        if (blank_value != len(tile_list)):\n",
    "            raise Exception(\"The tile list must contain the number of \\\n",
    "                    elements which is equal to the square of an integer!\")\n",
    "        \n",
    "        # Memorizing the position of a blank tile\n",
    "        # Technically, there is no need to do so, but it makes to get the successors a bit faster\n",
    "        if (blank_pos is not None):\n",
    "            if (self._tile_list[blank_pos] != blank_value):\n",
    "                raise Exception(\"Incorrect position of blank tile\")\n",
    "            self._blank_pos = blank_pos\n",
    "        else:\n",
    "            self._blank_pos = -1 \n",
    "            for i, tile_value in enumerate(tile_list):\n",
    "                if (tile_value == blank_value):\n",
    "                    self._blank_pos = i\n",
    "\n",
    "            if (self._blank_pos == -1):\n",
    "                raise Exception(\"State should contains max value as position to blank tile\")     \n",
    "        \n",
    "        # You may wish to add extra functionlality that might help in comparing board states\n",
    "        self._state_hash = hash(str(self._tile_list))\n",
    "                            \n",
    "    \n",
    "    def __eq__(self, other):\n",
    "        '''\n",
    "        Comparing one state with the other state. This is needed e.g. \n",
    "        to test whether we reached the goal state.\n",
    "        '''\n",
    "        return (self._state_hash == other._state_hash)\n",
    "    \n",
    "\n",
    "    def __hash__(self):\n",
    "        '''\n",
    "        You may wish to add extra functionlality that might help in comparing board states\n",
    "        '''\n",
    "        return self._state_hash\n",
    "\n",
    "\n",
    "    def __str__(self):\n",
    "        '''\n",
    "        Converts game state to formatted string\n",
    "        '''\n",
    "        res = []\n",
    "        char_tile_list = list(map(str, self._tile_list))\n",
    "        char_tile_list[self.blank_pos] = '_'\n",
    "        \n",
    "        for row_start in range(0, len(char_tile_list), self._size):\n",
    "            res.append(char_tile_list[row_start : row_start + self._size])\n",
    "        \n",
    "        return '\\n'.join([''.join(['{:2}'.format(item) for item in row]) for row in res]) + \"\\n\"\n",
    "    \n",
    "    \n",
    "    @property\n",
    "    def tile_list(self):\n",
    "        return self._tile_list\n",
    "    \n",
    "    \n",
    "    @property\n",
    "    def blank_pos(self):\n",
    "        return self._blank_pos\n",
    "    \n",
    "    \n",
    "    @property\n",
    "    def size(self):\n",
    "        return self._size"
   ]
  },
  {
   "cell_type": "markdown",
   "metadata": {},
   "source": [
    "## Search Node\n",
    "\n",
    "A wrapper for the GemPuzzleState that incorporates the data needed for the search algorithms (g-values, h-values, etc.)."
   ]
  },
  {
   "cell_type": "code",
   "execution_count": null,
   "metadata": {},
   "outputs": [],
   "source": [
    "class Node:\n",
    "    '''\n",
    "    Node class represents a search node\n",
    "\n",
    "    - puzzle_state: the state of the game corresponding to the new node\n",
    "    - g: g-value of the node\n",
    "    - h: h-value of the node // always 0 for Dijkstra\n",
    "    - F: f-value of the node // always equal to g-value for Dijkstra\n",
    "    - parent: pointer to the parent-node \n",
    "\n",
    "    '''\n",
    "    \n",
    "\n",
    "    def __init__(self, puzzle_state, g = 0, h = 0, f = None, parent = None):\n",
    "        self.puzzle_state = puzzle_state\n",
    "        self.g = g\n",
    "        self.h = h\n",
    "        if f is None:\n",
    "            self.f = self.g + h\n",
    "        else:\n",
    "            self.f = f        \n",
    "        self.parent = parent\n",
    "\n",
    "        \n",
    "    \n",
    "    def __eq__(self, other):\n",
    "        '''\n",
    "        Estimating where the two search nodes are the same,\n",
    "        which is needed to detect dublicates in the search tree.\n",
    "        '''\n",
    "        return self.puzzle_state == other.puzzle_state\n",
    "    \n",
    "    \n",
    "    def __hash__(self):\n",
    "        '''\n",
    "        To implement CLOSED for A* as set of nodes we need Node to be hashable.\n",
    "        '''\n",
    "        return hash(self.puzzle_state)\n",
    "    \n",
    "    \n",
    "    def __str__(self):\n",
    "        '''\n",
    "        Converts corrsponding game state to formatted string\n",
    "        '''\n",
    "        return str(self.puzzle_state)\n",
    "\n",
    "\n",
    "    def __lt__(self, other): \n",
    "        '''\n",
    "        Comparing the keys (i.e. the f-values) of two nodes,\n",
    "        which is needed to sort/extract the best element from OPEN (for A*).\n",
    "        '''\n",
    "        return self.f < other.f"
   ]
  },
  {
   "cell_type": "markdown",
   "metadata": {},
   "source": [
    "## Succesors"
   ]
  },
  {
   "cell_type": "code",
   "execution_count": null,
   "metadata": {},
   "outputs": [],
   "source": [
    "def get_successors(state):\n",
    "    '''\n",
    "    Getting the succesors for the GemPuzzleState/SearchNode (both variants are OK, it's up to you).\n",
    "    '''\n",
    "    delta = [[0, 1], [1, 0], [0, -1], [-1, 0]]\n",
    "    successors = []\n",
    "    for d in delta:\n",
    "        row = state.blank_pos // state.size # identifying the row in which blank is located\n",
    "        col = state.blank_pos % state.size # identifying the column in which blank is located\n",
    "        row += d[0] # computing new row for blank (corresponding to a particular move encoded via 'd')\n",
    "        col += d[1] # computing new column for blank (corresponding to a particular move encoded via 'd')\n",
    "        \n",
    "        # if the new position of a blank is valid (i.e. it is still within the field) then\n",
    "        # a corresponding sucessor should be added to the succesors' list\n",
    "        if (0 <= row < state.size) and (0 <= col < state.size):\n",
    "            new_tile_list = copy.copy(state.tile_list)\n",
    "            new_blank_pos = row * state.size + col\n",
    "            new_tile_list[state.blank_pos] = new_tile_list[new_blank_pos] # moving tile\n",
    "            new_tile_list[new_blank_pos] = state.size ** 2 # setting blank            \n",
    "            new_state = GemPuzzleState(new_tile_list, new_blank_pos)\n",
    "            successors.append(new_state)\n",
    "        \n",
    "    return successors"
   ]
  },
  {
   "cell_type": "markdown",
   "metadata": {},
   "source": [
    "## Heuristics Search\n",
    "### Implementing the Search Tree (i.e. OPEN and CLOSED) for A*\n",
    "\n",
    "You can use the implementation of the search tree from the previous labs. If it was implemented correctly, no modifications are needed."
   ]
  },
  {
   "cell_type": "code",
   "execution_count": null,
   "metadata": {},
   "outputs": [],
   "source": [
    "class SearchTreePQS: #SearchTree which uses PriorityQueue for OPEN and set for CLOSED\n",
    "    \n",
    "    def __init__(self):\n",
    "        pass\n",
    "                                      \n",
    "    def __len__(self):\n",
    "        pass\n",
    "                \n",
    "    def open_is_empty(self):\n",
    "        '''\n",
    "        open_is_empty should inform whether the OPEN is exhausted or not.\n",
    "        In the former case the search main loop should be interrupted.\n",
    "        '''\n",
    "        pass\n",
    "    \n",
    " \n",
    "    def add_to_open(self, item):\n",
    "        '''\n",
    "        Adding a (previously not expanded) node to the search-tree (i.e. to OPEN).\n",
    "        It's either a totally new node (the one we never encountered before)\n",
    "        or it can be a dublicate of the node that currently resides in OPEN.\n",
    "        It's up to us how to handle dublicates in OPEN. We can either \n",
    "        detect dublicates upon adding (i.e. inside this method) or detect them\n",
    "        lazily, when we are extracting a node for further expansion.\n",
    "        Not detecting dublicates at all may work in certain setups but let's not\n",
    "        consider this option.\n",
    "        '''   \n",
    "        pass\n",
    "\n",
    "    def get_best_node_from_open(self):\n",
    "        '''\n",
    "        Extracting the best node (i.e. the one with the minimal key) from OPEN.\n",
    "        This node will be expanded further on in the main loop of the search.\n",
    "        ''' \n",
    "\n",
    "        pass\n",
    "\n",
    "    def add_to_closed(self, item):\n",
    "        pass\n",
    "\n",
    "    def was_expanded(self, item):\n",
    "        pass\n",
    "\n",
    "    @property\n",
    "    def opened(self):\n",
    "        pass\n",
    "    \n",
    "    @property\n",
    "    def expanded(self):\n",
    "        pass\n",
    "\n",
    "    @property\n",
    "    def number_of_open_dublicates(self):\n",
    "        pass\n",
    "    "
   ]
  },
  {
   "cell_type": "markdown",
   "metadata": {},
   "source": [
    "### Heuristics\n",
    "You need to implement 2 most common *admissible* heuristic functions for the n-puzzle.\n",
    "- Hamming distance (the number of the misplaced tiles on the board).\n",
    "- Manhattan distance (Google it)."
   ]
  },
  {
   "cell_type": "code",
   "execution_count": null,
   "metadata": {},
   "outputs": [],
   "source": [
    "def hamming_distance(state_1, state_2):\n",
    "    '''\n",
    "    TODO\n",
    "    '''\n",
    "    h = 0\n",
    "\n",
    "    return h"
   ]
  },
  {
   "cell_type": "code",
   "execution_count": null,
   "metadata": {},
   "outputs": [],
   "source": [
    "def manhattan_distance(state_1, state_2):\n",
    "    '''\n",
    "    TODO\n",
    "    '''\n",
    "    h = 0\n",
    "\n",
    "    return h\n"
   ]
  },
  {
   "cell_type": "markdown",
   "metadata": {},
   "source": [
    "### A* Algorithm\n",
    "\n",
    "Adapt the A* algorithm for the gem puzzle\n",
    "\n",
    "The output of the algorithm should be:\n",
    "- path found flag (boolean)\n",
    "- the last (goal) node (needed further to reconstruct a path)\n",
    "- number of expansions (= steps) an algorithm have made until reaching the solution\n",
    "- number of created (and stored in the memory) nodes(= memory usage)"
   ]
  },
  {
   "cell_type": "code",
   "execution_count": null,
   "metadata": {},
   "outputs": [],
   "source": [
    "def astar(start_state, goal_state, heuristic_function = manhattan_distance, search_tree = None):\n",
    "    '''\n",
    "    TODO\n",
    "    '''\n",
    "    \n",
    "    ast = search_tree() # A* search tree\n",
    "    start_node = Node(start_state, g=0, h=heuristic_function(start_state, goal_state))\n",
    "    ast.add_to_open(start_node)\n",
    "    \n",
    "    steps = 0\n",
    "    nodes_created = 0\n",
    "        \n",
    "\n",
    "    return False, None, steps, nodes_created "
   ]
  },
  {
   "cell_type": "markdown",
   "metadata": {},
   "source": [
    "### IDA* Algorithm\n",
    "\n",
    "Implement IDA* algorithm. \n",
    "\n",
    "No other nodes except the ones forming the current path, i.e. the branch in the search tree, have to be memorized.\n",
    "\n",
    "Checking for dublicates checks whether the generated node is already present in the current path.\n",
    "\n",
    "The output of the algorithm should be analogous to A*."
   ]
  },
  {
   "cell_type": "code",
   "execution_count": null,
   "metadata": {},
   "outputs": [],
   "source": [
    "def search(curr_node, goal_state, bound, path, steps, heuristic_function):\n",
    "    steps += 1\n",
    "    f = curr_node.f\n",
    "    \n",
    "    if f > bound:\n",
    "        return (False, f, None, path, steps)\n",
    "\n",
    "    if curr_node.puzzle_state == goal_state:\n",
    "        return (True, f, curr_node, path, steps)\n",
    "\n",
    "    next_f = math.inf\n",
    "\n",
    "    '''\n",
    "    TODO\n",
    "    '''\n",
    "            \n",
    "    return False, next_f, None, path, steps\n",
    "\n",
    "def idastar(start_state, goal_state, heuristic_function = manhattan_distance):\n",
    "    bound = heuristic_function(start_state, goal_state)\n",
    "    start_node = Node(start_state, g=0, h=heuristic_function(start_state, goal_state))\n",
    "    path = set()\n",
    "    steps = 0\n",
    "    \n",
    "    '''\n",
    "    TODO\n",
    "    '''\n",
    "    \n",
    "    \n",
    "    res_node = start_node\n",
    "    res_path = path\n",
    "    return False, res_node, steps, len(res_path)\n"
   ]
  },
  {
   "cell_type": "markdown",
   "metadata": {},
   "source": [
    "## Validating the Results\n",
    "The following code randomly generates a bunch of solvable test instances (8-puzzle) and puts them into `data/tasks_gem.txt`."
   ]
  },
  {
   "cell_type": "code",
   "execution_count": null,
   "metadata": {},
   "outputs": [],
   "source": [
    "def is_solvable(tile_list):\n",
    "    inversions = 0\n",
    "    puzzle_exept_empty = [(i, v) for i, v in enumerate(tile_list) if v != len(tile_list)]\n",
    "\n",
    "    for i, tile in puzzle_exept_empty:\n",
    "        j = i + 1\n",
    "        while j < len(tile_list):\n",
    "            if tile_list[j] < tile:\n",
    "                inversions += 1\n",
    "            j += 1\n",
    "    \n",
    "    size = int(math.sqrt(len(tile_list)))\n",
    "    \n",
    "    if size % 2 != 0 and inversions % 2 == 0:\n",
    "        return True\n",
    "\n",
    "    if size % 2 == 0:\n",
    "        empty_row = size - puzzle.index(len(tile_list)) // size\n",
    "        return (empty_row % 2 != 0) == (inversions % 2 == 0)\n",
    "\n",
    "    return False"
   ]
  },
  {
   "cell_type": "code",
   "execution_count": null,
   "metadata": {},
   "outputs": [],
   "source": [
    "def generate_tasks(task_file, number, size):\n",
    "    f = open(task_file, \"w\")\n",
    "    for i in range(number):\n",
    "        tile_list = [i + 1 for i in range(size ** 2)]\n",
    "        shuffle(tile_list)\n",
    "        goal_tile_list = list(range(1, len(tile_list) + 1))\n",
    "        start_state = GemPuzzleState(tile_list)\n",
    "        goal_state = GemPuzzleState(goal_tile_list)\n",
    "        dist = manhattan_distance(start_state, goal_state)\n",
    "        \n",
    "        while (not is_solvable(tile_list)) or (dist > 12):\n",
    "            shuffle(tile_list)\n",
    "            goal_tile_list = list(range(1, len(tile_list) + 1))\n",
    "            start_state = GemPuzzleState(tile_list)\n",
    "            goal_state = GemPuzzleState(goal_tile_list)\n",
    "            dist = manhattan_distance(start_state, goal_state)\n",
    "\n",
    "        f.write(\" \".join(map(str, tile_list)) + \"\\n\")\n",
    "\n",
    "        print(*tile_list, \"Manhattan distance\", dist)\n"
   ]
  },
  {
   "cell_type": "code",
   "execution_count": null,
   "metadata": {},
   "outputs": [],
   "source": [
    "# Use it only once\n",
    "generate_tasks('data/tasks_gem.txt', 30, 3)"
   ]
  },
  {
   "cell_type": "markdown",
   "metadata": {},
   "source": [
    "The following procedure takes a search algorithm and a heuristic function (e.g. IDA* + Manhattan distance) as parameters, runs tests and stores the results for further analysis."
   ]
  },
  {
   "cell_type": "code",
   "execution_count": null,
   "metadata": {},
   "outputs": [],
   "source": [
    "def massive_test(SearchFunction, *args):\n",
    "    tasks_file = open('data/tasks_gem.txt')\n",
    "    all_tasks_results = dict()\n",
    "    all_tasks_results[\"len\"] = []\n",
    "    all_tasks_results[\"nc\"] = []\n",
    "    all_tasks_results[\"st\"] = []\n",
    "    count = 0\n",
    "    for l in tasks_file:\n",
    "        count += 1\n",
    "        \n",
    "        if(len(l) == 0):\n",
    "            continue\n",
    "            \n",
    "        start_tile_list = list(map(int, l.split()))\n",
    "        goal_tile_list = list(range(1, len(start_tile_list) + 1))\n",
    "        start_state = GemPuzzleState(start_tile_list)\n",
    "        goal_state = GemPuzzleState(goal_tile_list)\n",
    "        try:\n",
    "            result = SearchFunction(start_state, goal_state, *args)\n",
    "\n",
    "            if(result[0]):\n",
    "                print(result[1].g, result[2], result[3])\n",
    "                all_tasks_results[\"len\"].append(result[1].g)\n",
    "                all_tasks_results[\"st\"].append(result[2])\n",
    "                all_tasks_results[\"nc\"].append(result[3])\n",
    "            else:\n",
    "                print(count, \"Path not found!\")\n",
    "\n",
    "        except Exception as e:\n",
    "            print(count, \"Execution error\")\n",
    "            print(e)\n",
    "\n",
    "    return all_tasks_results"
   ]
  },
  {
   "cell_type": "markdown",
   "metadata": {},
   "source": [
    "## Experiment\n",
    "Run `A*` and `IDA*` with different heuristics on the generated instances and collect the results for further analysis."
   ]
  },
  {
   "cell_type": "code",
   "execution_count": null,
   "metadata": {
    "tags": []
   },
   "outputs": [],
   "source": [
    "%time astar_manh_stat = massive_test(astar, manhattan_distance, SearchTreePQS)"
   ]
  },
  {
   "cell_type": "code",
   "execution_count": null,
   "metadata": {},
   "outputs": [],
   "source": [
    "%time astar_hamm_stat = massive_test(astar, hamming_distance, SearchTreePQS)"
   ]
  },
  {
   "cell_type": "code",
   "execution_count": null,
   "metadata": {},
   "outputs": [],
   "source": [
    "%time idastar_manh_stat = massive_test(idastar, manhattan_distance)"
   ]
  },
  {
   "cell_type": "code",
   "execution_count": null,
   "metadata": {},
   "outputs": [],
   "source": [
    "%time idastar_hamm_stat = massive_test(idastar, hamming_distance)"
   ]
  },
  {
   "cell_type": "markdown",
   "metadata": {},
   "source": [
    "## Analisys \n",
    "Let's create very simple plots to analyze the performance difference of A* vs IDA*."
   ]
  },
  {
   "cell_type": "code",
   "execution_count": null,
   "metadata": {},
   "outputs": [],
   "source": [
    "len_eq_count = 0\n",
    "for i in range(len(astar_manh_stat['len'])):\n",
    "    if astar_manh_stat['len'][i] == astar_hamm_stat['len'][i] == \\\n",
    "               idastar_manh_stat['len'][i] == idastar_hamm_stat['len'][i]:\n",
    "        len_eq_count += 1\n",
    "               \n",
    "print(\"The path lengths are the same in\", len_eq_count/len(astar_manh_stat['len']) * 100, '% of cases')\n",
    "\n",
    "astar_manh_mem = sum(astar_manh_stat['nc'])/len(astar_manh_stat['nc'])\n",
    "astar_hamm_mem = sum(astar_hamm_stat['nc'])/len(astar_hamm_stat['nc'])\n",
    "idastar_manh_mem = sum(idastar_manh_stat['nc'])/len(idastar_manh_stat['nc'])\n",
    "idastar_hamm_mem = sum(idastar_hamm_stat['nc'])/len(idastar_hamm_stat['nc'])\n",
    "\n",
    "astar_manh_steps = sum(astar_manh_stat['st'])/len(astar_manh_stat['st'])\n",
    "astar_hamm_steps = sum(astar_hamm_stat['st'])/len(astar_hamm_stat['st'])\n",
    "idastar_manh_steps = sum(idastar_manh_stat['st'])/len(idastar_manh_stat['st'])\n",
    "idastar_hamm_steps = sum(idastar_hamm_stat['st'])/len(idastar_hamm_stat['st'])"
   ]
  },
  {
   "cell_type": "code",
   "execution_count": null,
   "metadata": {},
   "outputs": [],
   "source": [
    "fig = plt.figure()\n",
    "ax = fig.add_axes([0, 0, 1, 1])\n",
    "ax.set_title('Average number of nodes stored in memory (= memory usage)')\n",
    "alg = ['A* (Manh)', 'A* (Hamm)', 'IDA* (Manh)', 'IDA* (Hamm)']\n",
    "mem = [astar_manh_mem, astar_hamm_mem, idastar_manh_mem, idastar_hamm_mem]\n",
    "ax.bar(alg, mem)\n",
    "plt.show()\n",
    "\n",
    "astar_manh_mem, astar_hamm_mem, idastar_manh_mem, idastar_hamm_mem"
   ]
  },
  {
   "cell_type": "code",
   "execution_count": null,
   "metadata": {},
   "outputs": [],
   "source": [
    "fig = plt.figure()\n",
    "ax = fig.add_axes([0, 0, 1, 1])\n",
    "ax.set_title('Average number of steps')\n",
    "alg = ['A* (Manh)', 'A* (Hamm)', 'IDA* (Manh)', 'IDA* (Hamm)']\n",
    "sts = [astar_manh_steps, astar_hamm_steps, idastar_manh_steps, idastar_hamm_steps]\n",
    "ax.bar(alg, sts)\n",
    "plt.show()\n",
    "\n",
    "astar_manh_steps, astar_hamm_steps, idastar_manh_steps, idastar_hamm_steps"
   ]
  },
  {
   "cell_type": "markdown",
   "metadata": {},
   "source": [
    "## Real memory consumption\n",
    "\n",
    "Finally, lets measure the real time/memory consumption on a certain 'not-so-easy' instance of 15-puzzle."
   ]
  },
  {
   "cell_type": "code",
   "execution_count": null,
   "metadata": {},
   "outputs": [],
   "source": [
    "# to measure the memory consumtion in absolute values you can use the 'memory_profiler' \n",
    "# package (you may need installation)\n",
    "\n",
    "%reload_ext memory_profiler"
   ]
  },
  {
   "cell_type": "code",
   "execution_count": null,
   "metadata": {},
   "outputs": [],
   "source": [
    "start_tile_list_str = \"1 2 10 8 12 14 6 4 15 13 5 3 9 7 11 16\" # You can try a harder instance if you like\n",
    "start_tile_list = list(map(int, start_tile_list_str.split()))\n",
    "goal_tile_list = list(range(1, len(start_tile_list) + 1))\n",
    "start_state = GemPuzzleState(start_tile_list)\n",
    "goal_state = GemPuzzleState(goal_tile_list)"
   ]
  },
  {
   "cell_type": "code",
   "execution_count": null,
   "metadata": {},
   "outputs": [],
   "source": [
    "%%time\n",
    "%memit idastar(start_state, goal_state, manhattan_distance)"
   ]
  },
  {
   "cell_type": "code",
   "execution_count": null,
   "metadata": {},
   "outputs": [],
   "source": [
    "%%time\n",
    "%memit astar(start_state, goal_state, manhattan_distance, SearchTreePQS)"
   ]
  },
  {
   "cell_type": "code",
   "execution_count": null,
   "metadata": {},
   "outputs": [],
   "source": []
  }
 ],
 "metadata": {
  "kernelspec": {
   "display_name": "Python 3 (ipykernel)",
   "language": "python",
   "name": "python3"
  },
  "language_info": {
   "codemirror_mode": {
    "name": "ipython",
    "version": 3
   },
   "file_extension": ".py",
   "mimetype": "text/x-python",
   "name": "python",
   "nbconvert_exporter": "python",
   "pygments_lexer": "ipython3",
   "version": "3.9.12"
  }
 },
 "nbformat": 4,
 "nbformat_minor": 2
}
