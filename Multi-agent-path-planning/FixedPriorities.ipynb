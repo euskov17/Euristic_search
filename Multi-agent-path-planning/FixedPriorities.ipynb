{
 "cells": [
  {
   "cell_type": "code",
   "execution_count": 2,
   "metadata": {},
   "outputs": [],
   "source": [
    "import nbimporter\n",
    "\n",
    "from heapq import heappop, heappush, heapify\n",
    "from map import Map\n",
    "\n",
    "from astar_with_timestamps import astar_timesteps\n"
   ]
  },
  {
   "cell_type": "code",
   "execution_count": 8,
   "metadata": {},
   "outputs": [],
   "source": [
    "def list_pair_from_list_nodes(path):\n",
    "    p_path = []\n",
    "    for i, node in enumerate(path):\n",
    "        pair = (node.i, node.j)\n",
    "        p_path.append(pair)\n",
    "    return p_path\n",
    "\n",
    "\n",
    "def run_with_order(traj_prev, traj_stopped, start, goal, search_func, map: Map, learning_rate: 0, lower_time_limit=0, **kwargs):\n",
    "    \n",
    "    ca_table = CATable(traj_prev, traj_stopped)\n",
    "    \n",
    "    result = search_func(map, ca_table, start[0], start[1], goal[0], goal[1], \n",
    "                         lower_time_limit=lower_time_limit, \n",
    "                         learning_rate=learning_rate, **kwargs)\n",
    "    \n",
    "    if result[0]:\n",
    "        goal = result[1]\n",
    "        path = make_path(goal)[0]\n",
    "        p_path = list_pair_from_list_nodes(path)\n",
    "        steps = result[2]\n",
    "        if steps > lower_time_limit:\n",
    "            lower_time_limit = steps\n",
    "        return True, p_path, steps, lower_time_limit\n",
    "    else:\n",
    "        return False, None, 0, lower_time_limit\n",
    "\n",
    "\n",
    "def FixedOrderSearch(starts, goals, map:Map, *, order=None, search_func=astar_timesteps, **kwargs):\n",
    "    traj = []\n",
    "    traj_stopped = []\n",
    "    if order == None:\n",
    "        order = list(range(len(starts)))\n",
    "    \n",
    "    lower_time_limit = 0\n",
    "    learning_rate = 0\n",
    "    for agent in range(len(starts)):\n",
    "        res, p_path, steps, lower_time_limit = run_with_order(traj, \n",
    "                                                              traj_stopped,\n",
    "                                                              starts[order[agent]], \n",
    "                                                              goals[order[agent]], \n",
    "                                                              search_func=search_func, \n",
    "                                                              map=map,\n",
    "                                                              learning_rate=learning_rate,\n",
    "                                                              lower_time_limit=lower_time_limit, **kwargs)\n",
    "        learning_rate = .5\n",
    "        map.clear_tmp()\n",
    "        if res:\n",
    "            traj.append(p_path)\n",
    "            traj_stopped.append((goals[order[agent]], lower_time_limit))\n",
    "        else:\n",
    "            print(f\"agent {agent} has failed\")\n",
    "            # return False, None, float(\"+inf\")\n",
    "    return True, traj, lower_time_limit"
   ]
  }
 ],
 "metadata": {
  "kernelspec": {
   "display_name": "base",
   "language": "python",
   "name": "python3"
  },
  "language_info": {
   "codemirror_mode": {
    "name": "ipython",
    "version": 3
   },
   "file_extension": ".py",
   "mimetype": "text/x-python",
   "name": "python",
   "nbconvert_exporter": "python",
   "pygments_lexer": "ipython3",
   "version": "3.9.13"
  },
  "vscode": {
   "interpreter": {
    "hash": "ad2bdc8ecc057115af97d19610ffacc2b4e99fae6737bb82f5d7fb13d2f2c186"
   }
  }
 },
 "nbformat": 4,
 "nbformat_minor": 2
}
