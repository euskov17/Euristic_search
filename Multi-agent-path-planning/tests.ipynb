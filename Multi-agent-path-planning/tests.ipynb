{
 "cells": [
  {
   "cell_type": "code",
   "execution_count": 1,
   "metadata": {},
   "outputs": [],
   "source": [
    "import nbimporter\n",
    "\n",
    "from map import Map\n",
    "import visualization\n",
    "from FixedPriorities import FixedOrderSearch"
   ]
  },
  {
   "cell_type": "code",
   "execution_count": 2,
   "metadata": {},
   "outputs": [],
   "source": [
    "data = []\n",
    "\n",
    "height = 15\n",
    "width = 30\n",
    "map_str1 = '''\n",
    ". . . # # . . . . . . . . # # . . . # . . # # . . . . . . .  \n",
    ". . . # # # # # . . # . . # # . . . . . . # # . . . . . . . \n",
    ". . . . . . . # . . # . . # # . . . # . . # # . . . . . . . \n",
    ". . . # # . . # . . # . . # # . . . # . . # # . . . . . . . \n",
    ". . . # # . . # . . # . . # # . . . # . . # # . . . . . . . \n",
    ". . . # # . . # . . # . . # # . . . # . . # # # # # . . . . \n",
    ". . . # # . . # . . # . . # # . . . # . . # # # # # . . . . \n",
    ". . . . . . . # . . # . . # # . . . # . . # . . . . . . . . \n",
    ". . . # # . . # . . # . . # # . . . # . . # . . . . . . . . \n",
    ". . . # # . . . . . # . . . . . . . # . . . . . . . . . . . \n",
    ". . . # # . . # . . # . . # # . . . # . . # . . . . . . . . \n",
    ". . . # # # # # # # # # # # # # . # # . # # # # # # # . # # \n",
    ". . . # # . . . . . . . . # # . . . . . . . . . . . . . . . \n",
    ". . . . . . . . . . . . . . . . . . . . . . . . . . . . . .\n",
    ". . . # # . . . . . . . . # # . . . . . . . . . . . . . . .\n",
    "'''\n",
    "\n",
    "data.append((map_str1, width, height))\n",
    "\n",
    "map_str2 = '''\n",
    ". . . . . . . . . . . . . . . . . . # . . # # . . . . . . .  \n",
    ". . . . . . . . . . . . . . . . . . . . . # # . . . . . . . \n",
    ". . . . . . . . . . . . . # # . . . . . . . . . . . . . . . \n",
    ". . . . . . . . . . . . . . . . . . # . . # # . . . . . . . \n",
    ". . . . . . . . . . . . . . . . . . # . . . . . . . . . . . \n",
    ". . . # # . . . . . . . . . . . . . . . . # . # # # . . . . \n",
    ". . . # # . . . . . . . . . . . . . . . . # . # # # . . . . \n",
    ". . . . . . . # . . # . . # # . . . # . . # . . . . . . . . \n",
    ". . . . . . . # . . . . . # # . . . . . . # . . . . . . . . \n",
    ". . . . . . . # . . # . . # # . . . # . . # . . . . . . . . \n",
    ". . . . . . . . . . . . . . . . . . . . . . . . . . . . . . \n",
    ". . . # # . . . . . . # # . . # . # # . # . # # # # # . # # \n",
    ". . . # # . . . . . . . . . . . . . . . . . . . . . . . . . \n",
    ". . . . . . . . . . . . . . . . . . . . . . . . . . . . . .\n",
    ". . . # # . . . . . . . . # # . . . . . . . . . . . . . . .\n",
    "'''\n",
    "\n",
    "data.append((map_str2, width, height))\n",
    "\n",
    "map_str3 = '''\n",
    ". . . . . . . . . . . . . . . . . . . . . . . . . . . . . .  \n",
    ". . . . . . . . . . . . . . . . . . . . . . . . . . . . . . \n",
    ". . . . . . . . . . . . . . . . . . . . . . . . . . . . . . \n",
    ". . . . . . . . . . . . . . . . . . . . . . . . . . . . . . \n",
    ". . . . . . . . . . . . . . . . . . . . . . . . . . . . . . \n",
    ". . . . . . . . . . . . . . . . . . . . . . . . . . . . . . \n",
    ". . . . . . . . . . . . . . . . . . . . . . . . . . . . . . \n",
    ". . . . . . . . . . . . . . . . . . . . . . . . . . . . . . \n",
    ". . . . . . . . . . . . . . . . . . . . . . . . . . . . . . \n",
    ". . . . . . . . . . . . . . . . . . . . . . . . . . . . . . \n",
    ". . . . . . . . . . . . . . . . . . . . . . . . . . . . . . \n",
    ". . . . . . . . . . . . . . . . . . . . . . . . . . . . . . \n",
    ". . . . . . . . . . . . . . . . . . . . . . . . . . . . . . \n",
    ". . . . . . . . . . . . . . . . . . . . . . . . . . . . . .\n",
    ". . . . . . . . . . . . . . . . . . . . . . . . . . . . . .\n",
    "'''\n",
    "\n",
    "data.append((map_str3, width, height))\n",
    "\n",
    "test_maps = [Map().read_from_string(*dt) for dt in data]"
   ]
  },
  {
   "cell_type": "code",
   "execution_count": 3,
   "metadata": {},
   "outputs": [],
   "source": [
    "import numpy as np \n",
    "import random\n",
    "\n",
    "def gen_tasks(task_map: Map, num_of_tasks, mode=\"sides\"):\n",
    "    width, height = task_map.get_size()\n",
    "    avalable_points = []\n",
    "    if mode == \"sides\":\n",
    "        for i in range(1, width - 1):\n",
    "            if task_map.traversable(i, 0):\n",
    "                avalable_points.append((i, 0))\n",
    "                \n",
    "            if task_map.traversable(i, height - 1):\n",
    "                avalable_points.append((i,height - 1))    \n",
    "        \n",
    "        for j in range(1, height - 1):\n",
    "            if task_map.traversable(0, j):\n",
    "                avalable_points.append((0,j))    \n",
    "            \n",
    "            if task_map.traversable(width - 1, j):\n",
    "                avalable_points.append((width - 1, j))\n",
    "    elif mode == \"all\":\n",
    "        for i in range(1, width - 1):\n",
    "            for j in range(1, height - 1):\n",
    "                if task_map.traversable(i,j):\n",
    "                    avalable_points.append((i,j))  \n",
    "    else:\n",
    "        return None, None  \n",
    "    # random.seed(100)\n",
    "    starts = random.sample(avalable_points, num_of_tasks)\n",
    "    finishes = random.sample(avalable_points, num_of_tasks)\n",
    "    return starts, finishes"
   ]
  },
  {
   "cell_type": "code",
   "execution_count": 9,
   "metadata": {},
   "outputs": [
    {
     "name": "stdout",
     "output_type": "stream",
     "text": [
      "agent 33 has failed\n",
      "agent 34 has failed\n",
      "agent 36 has failed\n",
      "agent 37 has failed\n",
      "agent 38 has failed\n",
      "agent 39 has failed\n",
      "agent 40 has failed\n",
      "agent 42 has failed\n",
      "agent 44 has failed\n",
      "agent 45 has failed\n",
      "agent 46 has failed\n",
      "agent 47 has failed\n",
      "agent 48 has failed\n",
      "agent 49 has failed\n",
      "agent 50 has failed\n",
      "agent 51 has failed\n",
      "agent 52 has failed\n",
      "agent 53 has failed\n",
      "agent 54 has failed\n",
      "agent 55 has failed\n",
      "agent 56 has failed\n",
      "agent 57 has failed\n",
      "agent 58 has failed\n",
      "agent 59 has failed\n",
      "agent 60 has failed\n",
      "agent 61 has failed\n",
      "agent 62 has failed\n",
      "agent 63 has failed\n",
      "agent 64 has failed\n",
      "agent 65 has failed\n",
      "agent 66 has failed\n",
      "agent 67 has failed\n",
      "agent 68 has failed\n",
      "agent 69 has failed\n",
      "agent 70 has failed\n",
      "agent 71 has failed\n",
      "agent 72 has failed\n",
      "agent 73 has failed\n",
      "agent 74 has failed\n",
      "agent 75 has failed\n",
      "agent 76 has failed\n",
      "agent 77 has failed\n",
      "agent 78 has failed\n",
      "agent 79 has failed\n",
      "agent 80 has failed\n",
      "agent 81 has failed\n",
      "agent 82 has failed\n",
      "agent 83 has failed\n",
      "agent 84 has failed\n",
      "agent 85 has failed\n",
      "agent 86 has failed\n",
      "agent 87 has failed\n",
      "agent 88 has failed\n",
      "agent 89 has failed\n",
      "agent 90 has failed\n",
      "agent 91 has failed\n",
      "agent 92 has failed\n",
      "agent 93 has failed\n",
      "agent 94 has failed\n",
      "agent 95 has failed\n",
      "agent 96 has failed\n",
      "agent 97 has failed\n",
      "agent 98 has failed\n",
      "agent 99 has failed\n"
     ]
    },
    {
     "data": {
      "text/plain": [
       "(True, 1001)"
      ]
     },
     "execution_count": 9,
     "metadata": {},
     "output_type": "execute_result"
    }
   ],
   "source": [
    "n = 100\n",
    "num_of_map = -1\n",
    "starts, goals = gen_tasks(test_maps[num_of_map], n, mode=\"all\")\n",
    "order = random.shuffle(list(range(n)))\n",
    "res, dyn_obst_traj, cost = FixedOrderSearch(starts, goals, test_maps[num_of_map], order=order)\n",
    "\n",
    "res, cost"
   ]
  },
  {
   "cell_type": "code",
   "execution_count": 10,
   "metadata": {},
   "outputs": [
    {
     "name": "stderr",
     "output_type": "stream",
     "text": [
      "100%|██████████| 60/60 [00:00<00:00, 60.36it/s]\n"
     ]
    }
   ],
   "source": [
    "visualization.draw(test_maps[num_of_map], dyn_obst_traj, 60)"
   ]
  },
  {
   "cell_type": "code",
   "execution_count": 6,
   "metadata": {},
   "outputs": [
    {
     "ename": "SyntaxError",
     "evalue": "invalid syntax (<unknown>, line 38)",
     "output_type": "error",
     "traceback": [
      "Traceback \u001b[1;36m(most recent call last)\u001b[0m:\n",
      "  File \u001b[0;32m\"c:\\ProgramData\\Anaconda3\\lib\\site-packages\\IPython\\core\\interactiveshell.py\"\u001b[0m, line \u001b[0;32m3457\u001b[0m, in \u001b[0;35mrun_code\u001b[0m\n    exec(code_obj, self.user_global_ns, self.user_ns)\n",
      "  File \u001b[0;32m\"C:\\Users\\User\\AppData\\Local\\Temp\\ipykernel_12700\\1573610098.py\"\u001b[0m, line \u001b[0;32m1\u001b[0m, in \u001b[0;35m<module>\u001b[0m\n    from truePBS import HighLevelSearch\n",
      "  File \u001b[0;32m\"<frozen importlib._bootstrap>\"\u001b[0m, line \u001b[0;32m1007\u001b[0m, in \u001b[0;35m_find_and_load\u001b[0m\n",
      "  File \u001b[0;32m\"<frozen importlib._bootstrap>\"\u001b[0m, line \u001b[0;32m986\u001b[0m, in \u001b[0;35m_find_and_load_unlocked\u001b[0m\n",
      "  File \u001b[0;32m\"<frozen importlib._bootstrap>\"\u001b[0m, line \u001b[0;32m664\u001b[0m, in \u001b[0;35m_load_unlocked\u001b[0m\n",
      "  File \u001b[0;32m\"<frozen importlib._bootstrap>\"\u001b[0m, line \u001b[0;32m627\u001b[0m, in \u001b[0;35m_load_backward_compatible\u001b[0m\n",
      "  File \u001b[0;32m\"C:\\Users\\User\\AppData\\Roaming\\Python\\Python39\\site-packages\\nbimporter.py\"\u001b[0m, line \u001b[0;32m105\u001b[0m, in \u001b[0;35mload_module\u001b[0m\n    tree = deleter.generic_visit(ast.parse(code))\n",
      "\u001b[1;36m  File \u001b[1;32m\"c:\\ProgramData\\Anaconda3\\lib\\ast.py\"\u001b[1;36m, line \u001b[1;32m50\u001b[1;36m, in \u001b[1;35mparse\u001b[1;36m\u001b[0m\n\u001b[1;33m    return compile(source, filename, mode, flags,\u001b[0m\n",
      "\u001b[1;36m  File \u001b[1;32m\"<unknown>\"\u001b[1;36m, line \u001b[1;32m38\u001b[0m\n\u001b[1;33m    if j != agent and\u001b[0m\n\u001b[1;37m                      ^\u001b[0m\n\u001b[1;31mSyntaxError\u001b[0m\u001b[1;31m:\u001b[0m invalid syntax\n"
     ]
    }
   ],
   "source": [
    "from truePBS import HighLevelSearch\n",
    "\n",
    "res, dyn_obst_traj, cost = HighLevelSearch(starts, goals, test_maps[num_of_map])\n",
    "\n",
    "res, cost"
   ]
  },
  {
   "cell_type": "code",
   "execution_count": null,
   "metadata": {},
   "outputs": [
    {
     "name": "stderr",
     "output_type": "stream",
     "text": [
      "  0%|          | 0/60 [00:00<?, ?it/s]\n"
     ]
    },
    {
     "ename": "TypeError",
     "evalue": "object of type 'NoneType' has no len()",
     "output_type": "error",
     "traceback": [
      "\u001b[1;31m---------------------------------------------------------------------------\u001b[0m",
      "\u001b[1;31mTypeError\u001b[0m                                 Traceback (most recent call last)",
      "\u001b[1;32m~\\AppData\\Local\\Temp\\ipykernel_33592\\2461920745.py\u001b[0m in \u001b[0;36m<module>\u001b[1;34m\u001b[0m\n\u001b[1;32m----> 1\u001b[1;33m \u001b[0mvisualization\u001b[0m\u001b[1;33m.\u001b[0m\u001b[0mdraw\u001b[0m\u001b[1;33m(\u001b[0m\u001b[0mtest_maps\u001b[0m\u001b[1;33m[\u001b[0m\u001b[0mnum_of_map\u001b[0m\u001b[1;33m]\u001b[0m\u001b[1;33m,\u001b[0m \u001b[0mdyn_obst_traj\u001b[0m\u001b[1;33m,\u001b[0m \u001b[1;36m60\u001b[0m\u001b[1;33m,\u001b[0m \u001b[0moutput_filename\u001b[0m\u001b[1;33m=\u001b[0m\u001b[1;34m\"PBS\"\u001b[0m\u001b[1;33m)\u001b[0m\u001b[1;33m\u001b[0m\u001b[1;33m\u001b[0m\u001b[0m\n\u001b[0m",
      "\u001b[1;32mc:\\Users\\User\\Desktop\\python\\Euristic\\Project\\MAPF-project\\Lets_try_do_it\\visualization.ipynb\u001b[0m in \u001b[0;36mdraw\u001b[1;34m(grid_map, paths, pathlen, output_filename)\u001b[0m\n\u001b[0;32m     30\u001b[0m     \u001b[1;34m\"    Auxiliary function that visualizes the environment.\\n\"\u001b[0m\u001b[1;33m,\u001b[0m\u001b[1;33m\u001b[0m\u001b[1;33m\u001b[0m\u001b[0m\n\u001b[0;32m     31\u001b[0m     \u001b[1;34m\"    \\n\"\u001b[0m\u001b[1;33m,\u001b[0m\u001b[1;33m\u001b[0m\u001b[1;33m\u001b[0m\u001b[0m\n\u001b[1;32m---> 32\u001b[1;33m     \u001b[1;34m\"    The function assumes that nodes_opened/nodes_expanded\\n\"\u001b[0m\u001b[1;33m,\u001b[0m\u001b[1;33m\u001b[0m\u001b[1;33m\u001b[0m\u001b[0m\n\u001b[0m\u001b[0;32m     33\u001b[0m     \u001b[1;34m\"    are iterable collestions of search nodes\\n\"\u001b[0m\u001b[1;33m,\u001b[0m\u001b[1;33m\u001b[0m\u001b[1;33m\u001b[0m\u001b[0m\n\u001b[0;32m     34\u001b[0m     \u001b[1;34m\"    '''\\n\"\u001b[0m\u001b[1;33m,\u001b[0m\u001b[1;33m\u001b[0m\u001b[1;33m\u001b[0m\u001b[0m\n",
      "\u001b[1;31mTypeError\u001b[0m: object of type 'NoneType' has no len()"
     ]
    }
   ],
   "source": [
    "visualization.draw(test_maps[num_of_map], dyn_obst_traj, 60, output_filename=\"PBS\")"
   ]
  },
  {
   "cell_type": "code",
   "execution_count": null,
   "metadata": {},
   "outputs": [],
   "source": []
  },
  {
   "cell_type": "code",
   "execution_count": null,
   "metadata": {},
   "outputs": [],
   "source": []
  }
 ],
 "metadata": {
  "kernelspec": {
   "display_name": "base",
   "language": "python",
   "name": "python3"
  },
  "language_info": {
   "codemirror_mode": {
    "name": "ipython",
    "version": 3
   },
   "file_extension": ".py",
   "mimetype": "text/x-python",
   "name": "python",
   "nbconvert_exporter": "python",
   "pygments_lexer": "ipython3",
   "version": "3.9.13 (main, Aug 25 2022, 23:51:50) [MSC v.1916 64 bit (AMD64)]"
  },
  "orig_nbformat": 4,
  "vscode": {
   "interpreter": {
    "hash": "ad2bdc8ecc057115af97d19610ffacc2b4e99fae6737bb82f5d7fb13d2f2c186"
   }
  }
 },
 "nbformat": 4,
 "nbformat_minor": 2
}
